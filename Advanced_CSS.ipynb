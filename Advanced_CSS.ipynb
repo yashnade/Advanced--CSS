{
  "nbformat": 4,
  "nbformat_minor": 0,
  "metadata": {
    "colab": {
      "provenance": []
    },
    "kernelspec": {
      "name": "python3",
      "display_name": "Python 3"
    },
    "language_info": {
      "name": "python"
    }
  },
  "cells": [
    {
      "cell_type": "markdown",
      "source": [
        "Q1.Explain the purpose of using the var() function in css. Also you have created two buttons with id named\n",
        "primaryBtn and secondaryBtn which should be given background colors using the var() function. The color\n",
        "code for primaryColor is #00b7ff and secondaryColor is #6c757d"
      ],
      "metadata": {
        "id": "NQBDr3TpmuQm"
      }
    },
    {
      "cell_type": "code",
      "source": [
        "<!DOCTYPE html>\n",
        "<html>\n",
        "<head>\n",
        "  <style>\n",
        "    :root {\n",
        "      --primaryColor: #00b7ff;\n",
        "      --secondaryColor: #6c757d;\n",
        "    }\n",
        "\n",
        ".container{\n",
        "  border: 2px solid black;\n",
        "width:;\n",
        "  height:300px;\n",
        "\n",
        "\n",
        "}\n",
        "\n",
        "    #primaryBtn {\n",
        "      background-color: var(--primaryColor);\n",
        "      color: white;\n",
        "      padding: 10px 20px;\n",
        "      border: none;\n",
        "      border-radius: 4px;\n",
        "    }\n",
        "\n",
        "    #secondaryBtn {\n",
        "      background-color: var(--secondaryColor);\n",
        "      color: white;\n",
        "      padding: 10px 20px;\n",
        "      border: none;\n",
        "      border-radius: 4px;\n",
        "    }\n",
        "  </style>\n",
        "</head>\n",
        "<body>\n",
        "<section class=\"container\">\n",
        "  <button id=\"primaryBtn\">Primary</button>\n",
        "  <button id=\"secondaryBtn\">Secondary</button>\n",
        "</section>\n",
        "\n",
        "</body>\n",
        "</html>\n"
      ],
      "metadata": {
        "id": "HNCnXUHSmy98"
      },
      "execution_count": null,
      "outputs": []
    },
    {
      "cell_type": "markdown",
      "source": [
        "Q2.Create a 3D cube using the transform property of CSS."
      ],
      "metadata": {
        "id": "9BsvkkFunFws"
      }
    },
    {
      "cell_type": "code",
      "source": [
        "<!DOCTYPE html>\n",
        "<html lang=\"en\">\n",
        "<head>\n",
        "  <meta charset=\"UTF-8\">\n",
        "  <title>3D Cube</title>\n",
        "  <style>\n",
        "    body {\n",
        "      background-color: #f0f0f0;\n",
        "      margin: 0;\n",
        "      height: 100vh;\n",
        "      display: flex;\n",
        "      justify-content: center;\n",
        "      align-items: center;\n",
        "      perspective: 1000px; /* Enables 3D perspective */\n",
        "    }\n",
        "\n",
        "    .scene {\n",
        "      width: 200px;\n",
        "      height: 200px;\n",
        "      position: relative;\n",
        "      transform-style: preserve-3d;\n",
        "      animation: rotateCube 8s infinite linear;\n",
        "    }\n",
        "\n",
        "    .face {\n",
        "      position: absolute;\n",
        "      width: 200px;\n",
        "      height: 200px;\n",
        "      background: rgba(0, 183, 255, 0.9);\n",
        "      border: 1px solid #000;\n",
        "      font-size: 24px;\n",
        "      font-weight: bold;\n",
        "      color: white;\n",
        "      display: flex;\n",
        "      justify-content: center;\n",
        "      align-items: center;\n",
        "    }\n",
        "\n",
        "    .front  { transform: rotateY(0deg) translateZ(100px); }\n",
        "    .back   { transform: rotateY(180deg) translateZ(100px); }\n",
        "    .right  { transform: rotateY(90deg) translateZ(100px); }\n",
        "    .left   { transform: rotateY(-90deg) translateZ(100px); }\n",
        "    .top    { transform: rotateX(90deg) translateZ(100px); }\n",
        "    .bottom { transform: rotateX(-90deg) translateZ(100px); }\n",
        "\n",
        "    @keyframes rotateCube {\n",
        "      from {\n",
        "        transform: rotateX(0deg) rotateY(0deg);\n",
        "      }\n",
        "      to {\n",
        "        transform: rotateX(360deg) rotateY(360deg);\n",
        "      }\n",
        "    }\n",
        "  </style>\n",
        "</head>\n",
        "<body>\n",
        "  <div class=\"scene\">\n",
        "    <div class=\"face front\">Front</div>\n",
        "    <div class=\"face back\">Back</div>\n",
        "    <div class=\"face right\">Right</div>\n",
        "    <div class=\"face left\">Left</div>\n",
        "    <div class=\"face top\">Top</div>\n",
        "    <div class=\"face bottom\">Bottom</div>\n",
        "  </div>\n",
        "</body>\n",
        "</html>\n"
      ],
      "metadata": {
        "id": "buu9srY-nKgr"
      },
      "execution_count": null,
      "outputs": []
    },
    {
      "cell_type": "markdown",
      "source": [
        "Q3.Create a simple circular loader which will rotate continuously to look like a loading screen on a website."
      ],
      "metadata": {
        "id": "ak-BfJOw5EJK"
      }
    },
    {
      "cell_type": "code",
      "source": [
        "<!DOCTYPE html>\n",
        "<html lang=\"en\">\n",
        "<head>\n",
        "  <meta charset=\"UTF-8\">\n",
        "  <title>3D Cube</title>\n",
        "\n",
        "  <style>\n",
        "    body{\n",
        "        display: flex;\n",
        "        justify-content: center;\n",
        "        align-content: center;\n",
        "        align-items: center;\n",
        "        background-color: black;\n",
        "    }\n",
        "\n",
        "    .circle{\n",
        "        width: 300px;\n",
        "        height: 300px;\n",
        "        border-radius: 50%;\n",
        "        border: 4px solid white;\n",
        "        border-top: 4px solid blue;\n",
        "        animation: loade  0.8s linear 0.3s infinite ;\n",
        "\n",
        "    }\n",
        "\n",
        "\n",
        "    @keyframes loade {\n",
        "        0%{\n",
        "            transform: rotate(0deg);\n",
        "        }\n",
        "        100%{\n",
        "            transform: rotate(360deg);\n",
        "        }\n",
        "    }\n",
        "  </style>\n",
        "  </head>\n",
        "  <body>\n",
        "    <div class=\"circle\"></div>\n",
        "  </body>\n",
        "</html>"
      ],
      "metadata": {
        "id": "qGxyPxva5Fug"
      },
      "execution_count": null,
      "outputs": []
    },
    {
      "cell_type": "markdown",
      "source": [
        "Q4.You have to visit the PW Skills website (https://pwskills.com/) and have to hide the logo by using the developer\n",
        "tool. This should be done using the css and developer tool only, use of javascript is prohibited."
      ],
      "metadata": {
        "id": "VWxrh-z9Skcw"
      }
    },
    {
      "cell_type": "markdown",
      "source": [
        "Ans:    Both Q4 and Q5 images are uploaded on github"
      ],
      "metadata": {
        "id": "lOuUM025St5p"
      }
    }
  ]
}